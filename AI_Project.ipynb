{
  "cells": [
    {
      "cell_type": "markdown",
      "metadata": {
        "id": "view-in-github",
        "colab_type": "text"
      },
      "source": [
        "<a href=\"https://colab.research.google.com/github/ramo2004/House-Pricing-Prediction-Model-Comparison/blob/main/AI_Project.ipynb\" target=\"_parent\"><img src=\"https://colab.research.google.com/assets/colab-badge.svg\" alt=\"Open In Colab\"/></a>"
      ]
    },
    {
      "cell_type": "code",
      "execution_count": 48,
      "metadata": {
        "id": "mXLEA6PSsk5k"
      },
      "outputs": [],
      "source": [
        "#import all libraries\n",
        "\n",
        "import pandas as pd\n",
        "import numpy as np\n",
        "import seaborn as sns\n",
        "import matplotlib.pyplot as plt\n",
        "\n",
        "from sklearn.model_selection import train_test_split\n",
        "from sklearn.linear_model import LinearRegression\n",
        "from sklearn.tree import DecisionTreeRegressor\n",
        "from sklearn.ensemble import RandomForestRegressor\n",
        "from sklearn.metrics import mean_absolute_error\n",
        "from sklearn.preprocessing import StandardScaler\n",
        "from sklearn.metrics import mean_squared_error, r2_score\n",
        "\n"
      ]
    },
    {
      "cell_type": "code",
      "source": [
        "from google.colab import drive\n",
        "drive.mount('/content/drive')"
      ],
      "metadata": {
        "colab": {
          "base_uri": "https://localhost:8080/"
        },
        "id": "TVsmkvxYpNb2",
        "outputId": "7a2b1b90-a5ab-4d26-89da-03972e6d96f9"
      },
      "execution_count": 49,
      "outputs": [
        {
          "output_type": "stream",
          "name": "stdout",
          "text": [
            "Drive already mounted at /content/drive; to attempt to forcibly remount, call drive.mount(\"/content/drive\", force_remount=True).\n"
          ]
        }
      ]
    },
    {
      "cell_type": "code",
      "source": [],
      "metadata": {
        "id": "Po0RYu3tqeIQ"
      },
      "execution_count": 49,
      "outputs": []
    },
    {
      "cell_type": "code",
      "execution_count": 50,
      "metadata": {
        "id": "gLHkKyiNtkkg"
      },
      "outputs": [],
      "source": [
        "\n",
        "\n",
        "# Load the first dataset\n",
        "#data1 = pd.read_csv('sample_data/Zip_zhvi_uc_sfrcondo_tier_0.33_0.67_sm_sa_month.csv')\n",
        "data1 = pd.read_csv('drive/MyDrive/Zip_zhvi_uc_sfrcondo_tier_0.33_0.67_sm_sa_month.csv')\n",
        "\n",
        "\n",
        "# Load the second dataset\n",
        "#data2 = pd.read_csv('sample_data/realtor-data.zip.csv')\n",
        "data2 = pd.read_csv('drive/MyDrive/realtor-data.zip.csv')\n",
        "\n"
      ]
    },
    {
      "cell_type": "code",
      "execution_count": 51,
      "metadata": {
        "id": "ubja8r_V2F1P",
        "colab": {
          "base_uri": "https://localhost:8080/"
        },
        "outputId": "1eeca457-fef2-4794-9631-07a66c1ab8b4"
      },
      "outputs": [
        {
          "output_type": "stream",
          "name": "stdout",
          "text": [
            "Index(['RegionID', 'SizeRank', 'RegionName', 'RegionType', 'StateName',\n",
            "       'State', 'City', 'Metro', 'CountyName', '1/31/00',\n",
            "       ...\n",
            "       '12/31/23', '1/31/24', '2/29/24', '3/31/24', '4/30/24', '5/31/24',\n",
            "       '6/30/24', '7/31/24', '8/31/24', '9/30/24'],\n",
            "      dtype='object', length=306)\n",
            "   RegionID  SizeRank  RegionName RegionType StateName State      City  \\\n",
            "0     91982         1       77494        zip        TX    TX      Katy   \n",
            "1     61148         2        8701        zip        NJ    NJ  Lakewood   \n",
            "2     91940         3       77449        zip        TX    TX      Katy   \n",
            "3     62080         4       11368        zip        NY    NY  New York   \n",
            "4     91733         5       77084        zip        TX    TX   Houston   \n",
            "\n",
            "                                   Metro        CountyName      1/31/00  ...  \\\n",
            "0   Houston-The Woodlands-Sugar Land, TX  Fort Bend County  210115.6491  ...   \n",
            "1  New York-Newark-Jersey City, NY-NJ-PA      Ocean County  138190.2243  ...   \n",
            "2   Houston-The Woodlands-Sugar Land, TX     Harris County  103030.9357  ...   \n",
            "3  New York-Newark-Jersey City, NY-NJ-PA     Queens County  149541.5673  ...   \n",
            "4   Houston-The Woodlands-Sugar Land, TX     Harris County  102153.2088  ...   \n",
            "\n",
            "      12/31/23      1/31/24      2/29/24      3/31/24      4/30/24  \\\n",
            "0  487417.4088  488792.7274  490953.9618  493764.6293  496284.6900   \n",
            "1  587035.7212  588629.6410  591203.6037  596333.5836  604688.5503   \n",
            "2  276821.4273  277174.5362  277871.3540  278961.9402  279916.1775   \n",
            "3  454925.7422  452068.7179  450448.6512  453539.5515  458095.4525   \n",
            "4  271678.7920  271724.7503  272249.2166  273247.8310  274236.9390   \n",
            "\n",
            "       5/31/24      6/30/24      7/31/24      8/31/24      9/30/24  \n",
            "0  497597.9656  497904.5084  497525.1661  497932.8112  498624.0590  \n",
            "1  612076.6038  617531.8718  622433.0899  627699.8466  633902.1620  \n",
            "2  280446.9010  280407.3991  280174.4211  279993.8120  279806.7514  \n",
            "3  462764.7164  463474.4893  462960.3520  462321.2167  463290.5745  \n",
            "4  274737.8454  274571.4914  274279.8111  274007.7766  273755.4575  \n",
            "\n",
            "[5 rows x 306 columns]\n"
          ]
        }
      ],
      "source": [
        "# Display the column names\n",
        "print(data1.columns)\n",
        "\n",
        "# Show the first few rows to get an idea of the data\n",
        "print(data1.head())\n"
      ]
    },
    {
      "cell_type": "code",
      "execution_count": 52,
      "metadata": {
        "id": "pCR6AoYj2b5X",
        "colab": {
          "base_uri": "https://localhost:8080/"
        },
        "outputId": "d1f476db-a2ce-4f54-ee75-88ab2d37121b"
      },
      "outputs": [
        {
          "output_type": "stream",
          "name": "stdout",
          "text": [
            "     RegionID  SizeRank  RegionName RegionType StateName State         City  \\\n",
            "41      92341        42       78245        zip        TX    TX  San Antonio   \n",
            "225     92350       231       78254        zip        TX    TX  San Antonio   \n",
            "353     92345       361       78249        zip        TX    TX  San Antonio   \n",
            "429     92349       439       78253        zip        TX    TX  San Antonio   \n",
            "468     92347       478       78251        zip        TX    TX  San Antonio   \n",
            "\n",
            "                             Metro    CountyName      1/31/00  ...  \\\n",
            "41   San Antonio-New Braunfels, TX  Bexar County  108657.7837  ...   \n",
            "225  San Antonio-New Braunfels, TX  Bexar County  134158.0683  ...   \n",
            "353  San Antonio-New Braunfels, TX  Bexar County  121232.4915  ...   \n",
            "429  San Antonio-New Braunfels, TX  Bexar County  166330.0264  ...   \n",
            "468  San Antonio-New Braunfels, TX  Bexar County  112480.2507  ...   \n",
            "\n",
            "        12/31/23      1/31/24      2/29/24      3/31/24      4/30/24  \\\n",
            "41   267147.6152  266084.4442  265598.7155  265614.4300  265593.0476   \n",
            "225  315675.4400  314436.7877  313741.7575  313800.1780  313985.1148   \n",
            "353  309560.6294  308627.7207  308180.0426  308692.0840  309637.2903   \n",
            "429  343207.9741  340675.1771  338885.2617  338300.1127  338359.8527   \n",
            "468  273672.2977  272373.5620  271370.4910  271105.5334  271161.6728   \n",
            "\n",
            "         5/31/24      6/30/24      7/31/24      8/31/24      9/30/24  \n",
            "41   265253.9236  264890.2793  264202.6051  263693.5473  263019.2334  \n",
            "225  313848.9205  313330.0574  312631.2270  312033.5538  311487.8156  \n",
            "353  310268.3196  310250.9706  309574.6410  308913.2290  308376.9875  \n",
            "429  338494.3648  338249.3640  337754.4671  337466.4551  337318.3727  \n",
            "468  271054.4138  270855.0299  270232.2826  269741.5542  269125.4352  \n",
            "\n",
            "[5 rows x 306 columns]\n"
          ]
        }
      ],
      "source": [
        "# Filter data for San Antonio in Texas\n",
        "san_antonio_data=data1[(data1['City']=='San Antonio') & (data1['StateName']=='TX')]\n",
        "\n",
        "# Display the filtered data\n",
        "print(san_antonio_data.head())\n"
      ]
    },
    {
      "cell_type": "code",
      "execution_count": 53,
      "metadata": {
        "id": "G5f0JnaPtx-C",
        "colab": {
          "base_uri": "https://localhost:8080/",
          "height": 206
        },
        "outputId": "c766484b-df27-475d-f873-bf7127a6d687"
      },
      "outputs": [
        {
          "output_type": "execute_result",
          "data": {
            "text/plain": [
              "   RegionID  SizeRank  RegionName RegionType StateName State         City  \\\n",
              "0     92341        42       78245        zip        TX    TX  San Antonio   \n",
              "1     92341        42       78245        zip        TX    TX  San Antonio   \n",
              "2     92341        42       78245        zip        TX    TX  San Antonio   \n",
              "3     92341        42       78245        zip        TX    TX  San Antonio   \n",
              "4     92341        42       78245        zip        TX    TX  San Antonio   \n",
              "\n",
              "                           Metro    CountyName       Date        Price  \n",
              "0  San Antonio-New Braunfels, TX  Bexar County 2000-01-31  108657.7837  \n",
              "1  San Antonio-New Braunfels, TX  Bexar County 2000-02-29  108721.0889  \n",
              "2  San Antonio-New Braunfels, TX  Bexar County 2000-03-31  108728.6312  \n",
              "3  San Antonio-New Braunfels, TX  Bexar County 2000-04-30  108872.6398  \n",
              "4  San Antonio-New Braunfels, TX  Bexar County 2000-05-31  108391.4348  "
            ],
            "text/html": [
              "\n",
              "  <div id=\"df-0e382046-c722-4013-9484-02f40a9fc8da\" class=\"colab-df-container\">\n",
              "    <div>\n",
              "<style scoped>\n",
              "    .dataframe tbody tr th:only-of-type {\n",
              "        vertical-align: middle;\n",
              "    }\n",
              "\n",
              "    .dataframe tbody tr th {\n",
              "        vertical-align: top;\n",
              "    }\n",
              "\n",
              "    .dataframe thead th {\n",
              "        text-align: right;\n",
              "    }\n",
              "</style>\n",
              "<table border=\"1\" class=\"dataframe\">\n",
              "  <thead>\n",
              "    <tr style=\"text-align: right;\">\n",
              "      <th></th>\n",
              "      <th>RegionID</th>\n",
              "      <th>SizeRank</th>\n",
              "      <th>RegionName</th>\n",
              "      <th>RegionType</th>\n",
              "      <th>StateName</th>\n",
              "      <th>State</th>\n",
              "      <th>City</th>\n",
              "      <th>Metro</th>\n",
              "      <th>CountyName</th>\n",
              "      <th>Date</th>\n",
              "      <th>Price</th>\n",
              "    </tr>\n",
              "  </thead>\n",
              "  <tbody>\n",
              "    <tr>\n",
              "      <th>0</th>\n",
              "      <td>92341</td>\n",
              "      <td>42</td>\n",
              "      <td>78245</td>\n",
              "      <td>zip</td>\n",
              "      <td>TX</td>\n",
              "      <td>TX</td>\n",
              "      <td>San Antonio</td>\n",
              "      <td>San Antonio-New Braunfels, TX</td>\n",
              "      <td>Bexar County</td>\n",
              "      <td>2000-01-31</td>\n",
              "      <td>108657.7837</td>\n",
              "    </tr>\n",
              "    <tr>\n",
              "      <th>1</th>\n",
              "      <td>92341</td>\n",
              "      <td>42</td>\n",
              "      <td>78245</td>\n",
              "      <td>zip</td>\n",
              "      <td>TX</td>\n",
              "      <td>TX</td>\n",
              "      <td>San Antonio</td>\n",
              "      <td>San Antonio-New Braunfels, TX</td>\n",
              "      <td>Bexar County</td>\n",
              "      <td>2000-02-29</td>\n",
              "      <td>108721.0889</td>\n",
              "    </tr>\n",
              "    <tr>\n",
              "      <th>2</th>\n",
              "      <td>92341</td>\n",
              "      <td>42</td>\n",
              "      <td>78245</td>\n",
              "      <td>zip</td>\n",
              "      <td>TX</td>\n",
              "      <td>TX</td>\n",
              "      <td>San Antonio</td>\n",
              "      <td>San Antonio-New Braunfels, TX</td>\n",
              "      <td>Bexar County</td>\n",
              "      <td>2000-03-31</td>\n",
              "      <td>108728.6312</td>\n",
              "    </tr>\n",
              "    <tr>\n",
              "      <th>3</th>\n",
              "      <td>92341</td>\n",
              "      <td>42</td>\n",
              "      <td>78245</td>\n",
              "      <td>zip</td>\n",
              "      <td>TX</td>\n",
              "      <td>TX</td>\n",
              "      <td>San Antonio</td>\n",
              "      <td>San Antonio-New Braunfels, TX</td>\n",
              "      <td>Bexar County</td>\n",
              "      <td>2000-04-30</td>\n",
              "      <td>108872.6398</td>\n",
              "    </tr>\n",
              "    <tr>\n",
              "      <th>4</th>\n",
              "      <td>92341</td>\n",
              "      <td>42</td>\n",
              "      <td>78245</td>\n",
              "      <td>zip</td>\n",
              "      <td>TX</td>\n",
              "      <td>TX</td>\n",
              "      <td>San Antonio</td>\n",
              "      <td>San Antonio-New Braunfels, TX</td>\n",
              "      <td>Bexar County</td>\n",
              "      <td>2000-05-31</td>\n",
              "      <td>108391.4348</td>\n",
              "    </tr>\n",
              "  </tbody>\n",
              "</table>\n",
              "</div>\n",
              "    <div class=\"colab-df-buttons\">\n",
              "\n",
              "  <div class=\"colab-df-container\">\n",
              "    <button class=\"colab-df-convert\" onclick=\"convertToInteractive('df-0e382046-c722-4013-9484-02f40a9fc8da')\"\n",
              "            title=\"Convert this dataframe to an interactive table.\"\n",
              "            style=\"display:none;\">\n",
              "\n",
              "  <svg xmlns=\"http://www.w3.org/2000/svg\" height=\"24px\" viewBox=\"0 -960 960 960\">\n",
              "    <path d=\"M120-120v-720h720v720H120Zm60-500h600v-160H180v160Zm220 220h160v-160H400v160Zm0 220h160v-160H400v160ZM180-400h160v-160H180v160Zm440 0h160v-160H620v160ZM180-180h160v-160H180v160Zm440 0h160v-160H620v160Z\"/>\n",
              "  </svg>\n",
              "    </button>\n",
              "\n",
              "  <style>\n",
              "    .colab-df-container {\n",
              "      display:flex;\n",
              "      gap: 12px;\n",
              "    }\n",
              "\n",
              "    .colab-df-convert {\n",
              "      background-color: #E8F0FE;\n",
              "      border: none;\n",
              "      border-radius: 50%;\n",
              "      cursor: pointer;\n",
              "      display: none;\n",
              "      fill: #1967D2;\n",
              "      height: 32px;\n",
              "      padding: 0 0 0 0;\n",
              "      width: 32px;\n",
              "    }\n",
              "\n",
              "    .colab-df-convert:hover {\n",
              "      background-color: #E2EBFA;\n",
              "      box-shadow: 0px 1px 2px rgba(60, 64, 67, 0.3), 0px 1px 3px 1px rgba(60, 64, 67, 0.15);\n",
              "      fill: #174EA6;\n",
              "    }\n",
              "\n",
              "    .colab-df-buttons div {\n",
              "      margin-bottom: 4px;\n",
              "    }\n",
              "\n",
              "    [theme=dark] .colab-df-convert {\n",
              "      background-color: #3B4455;\n",
              "      fill: #D2E3FC;\n",
              "    }\n",
              "\n",
              "    [theme=dark] .colab-df-convert:hover {\n",
              "      background-color: #434B5C;\n",
              "      box-shadow: 0px 1px 3px 1px rgba(0, 0, 0, 0.15);\n",
              "      filter: drop-shadow(0px 1px 2px rgba(0, 0, 0, 0.3));\n",
              "      fill: #FFFFFF;\n",
              "    }\n",
              "  </style>\n",
              "\n",
              "    <script>\n",
              "      const buttonEl =\n",
              "        document.querySelector('#df-0e382046-c722-4013-9484-02f40a9fc8da button.colab-df-convert');\n",
              "      buttonEl.style.display =\n",
              "        google.colab.kernel.accessAllowed ? 'block' : 'none';\n",
              "\n",
              "      async function convertToInteractive(key) {\n",
              "        const element = document.querySelector('#df-0e382046-c722-4013-9484-02f40a9fc8da');\n",
              "        const dataTable =\n",
              "          await google.colab.kernel.invokeFunction('convertToInteractive',\n",
              "                                                    [key], {});\n",
              "        if (!dataTable) return;\n",
              "\n",
              "        const docLinkHtml = 'Like what you see? Visit the ' +\n",
              "          '<a target=\"_blank\" href=https://colab.research.google.com/notebooks/data_table.ipynb>data table notebook</a>'\n",
              "          + ' to learn more about interactive tables.';\n",
              "        element.innerHTML = '';\n",
              "        dataTable['output_type'] = 'display_data';\n",
              "        await google.colab.output.renderOutput(dataTable, element);\n",
              "        const docLink = document.createElement('div');\n",
              "        docLink.innerHTML = docLinkHtml;\n",
              "        element.appendChild(docLink);\n",
              "      }\n",
              "    </script>\n",
              "  </div>\n",
              "\n",
              "\n",
              "<div id=\"df-a4535275-ec83-4a57-afe9-3f4dcb225ab3\">\n",
              "  <button class=\"colab-df-quickchart\" onclick=\"quickchart('df-a4535275-ec83-4a57-afe9-3f4dcb225ab3')\"\n",
              "            title=\"Suggest charts\"\n",
              "            style=\"display:none;\">\n",
              "\n",
              "<svg xmlns=\"http://www.w3.org/2000/svg\" height=\"24px\"viewBox=\"0 0 24 24\"\n",
              "     width=\"24px\">\n",
              "    <g>\n",
              "        <path d=\"M19 3H5c-1.1 0-2 .9-2 2v14c0 1.1.9 2 2 2h14c1.1 0 2-.9 2-2V5c0-1.1-.9-2-2-2zM9 17H7v-7h2v7zm4 0h-2V7h2v10zm4 0h-2v-4h2v4z\"/>\n",
              "    </g>\n",
              "</svg>\n",
              "  </button>\n",
              "\n",
              "<style>\n",
              "  .colab-df-quickchart {\n",
              "      --bg-color: #E8F0FE;\n",
              "      --fill-color: #1967D2;\n",
              "      --hover-bg-color: #E2EBFA;\n",
              "      --hover-fill-color: #174EA6;\n",
              "      --disabled-fill-color: #AAA;\n",
              "      --disabled-bg-color: #DDD;\n",
              "  }\n",
              "\n",
              "  [theme=dark] .colab-df-quickchart {\n",
              "      --bg-color: #3B4455;\n",
              "      --fill-color: #D2E3FC;\n",
              "      --hover-bg-color: #434B5C;\n",
              "      --hover-fill-color: #FFFFFF;\n",
              "      --disabled-bg-color: #3B4455;\n",
              "      --disabled-fill-color: #666;\n",
              "  }\n",
              "\n",
              "  .colab-df-quickchart {\n",
              "    background-color: var(--bg-color);\n",
              "    border: none;\n",
              "    border-radius: 50%;\n",
              "    cursor: pointer;\n",
              "    display: none;\n",
              "    fill: var(--fill-color);\n",
              "    height: 32px;\n",
              "    padding: 0;\n",
              "    width: 32px;\n",
              "  }\n",
              "\n",
              "  .colab-df-quickchart:hover {\n",
              "    background-color: var(--hover-bg-color);\n",
              "    box-shadow: 0 1px 2px rgba(60, 64, 67, 0.3), 0 1px 3px 1px rgba(60, 64, 67, 0.15);\n",
              "    fill: var(--button-hover-fill-color);\n",
              "  }\n",
              "\n",
              "  .colab-df-quickchart-complete:disabled,\n",
              "  .colab-df-quickchart-complete:disabled:hover {\n",
              "    background-color: var(--disabled-bg-color);\n",
              "    fill: var(--disabled-fill-color);\n",
              "    box-shadow: none;\n",
              "  }\n",
              "\n",
              "  .colab-df-spinner {\n",
              "    border: 2px solid var(--fill-color);\n",
              "    border-color: transparent;\n",
              "    border-bottom-color: var(--fill-color);\n",
              "    animation:\n",
              "      spin 1s steps(1) infinite;\n",
              "  }\n",
              "\n",
              "  @keyframes spin {\n",
              "    0% {\n",
              "      border-color: transparent;\n",
              "      border-bottom-color: var(--fill-color);\n",
              "      border-left-color: var(--fill-color);\n",
              "    }\n",
              "    20% {\n",
              "      border-color: transparent;\n",
              "      border-left-color: var(--fill-color);\n",
              "      border-top-color: var(--fill-color);\n",
              "    }\n",
              "    30% {\n",
              "      border-color: transparent;\n",
              "      border-left-color: var(--fill-color);\n",
              "      border-top-color: var(--fill-color);\n",
              "      border-right-color: var(--fill-color);\n",
              "    }\n",
              "    40% {\n",
              "      border-color: transparent;\n",
              "      border-right-color: var(--fill-color);\n",
              "      border-top-color: var(--fill-color);\n",
              "    }\n",
              "    60% {\n",
              "      border-color: transparent;\n",
              "      border-right-color: var(--fill-color);\n",
              "    }\n",
              "    80% {\n",
              "      border-color: transparent;\n",
              "      border-right-color: var(--fill-color);\n",
              "      border-bottom-color: var(--fill-color);\n",
              "    }\n",
              "    90% {\n",
              "      border-color: transparent;\n",
              "      border-bottom-color: var(--fill-color);\n",
              "    }\n",
              "  }\n",
              "</style>\n",
              "\n",
              "  <script>\n",
              "    async function quickchart(key) {\n",
              "      const quickchartButtonEl =\n",
              "        document.querySelector('#' + key + ' button');\n",
              "      quickchartButtonEl.disabled = true;  // To prevent multiple clicks.\n",
              "      quickchartButtonEl.classList.add('colab-df-spinner');\n",
              "      try {\n",
              "        const charts = await google.colab.kernel.invokeFunction(\n",
              "            'suggestCharts', [key], {});\n",
              "      } catch (error) {\n",
              "        console.error('Error during call to suggestCharts:', error);\n",
              "      }\n",
              "      quickchartButtonEl.classList.remove('colab-df-spinner');\n",
              "      quickchartButtonEl.classList.add('colab-df-quickchart-complete');\n",
              "    }\n",
              "    (() => {\n",
              "      let quickchartButtonEl =\n",
              "        document.querySelector('#df-a4535275-ec83-4a57-afe9-3f4dcb225ab3 button');\n",
              "      quickchartButtonEl.style.display =\n",
              "        google.colab.kernel.accessAllowed ? 'block' : 'none';\n",
              "    })();\n",
              "  </script>\n",
              "</div>\n",
              "\n",
              "    </div>\n",
              "  </div>\n"
            ],
            "application/vnd.google.colaboratory.intrinsic+json": {
              "type": "dataframe",
              "variable_name": "san_antonio_prices",
              "summary": "{\n  \"name\": \"san_antonio_prices\",\n  \"rows\": 16476,\n  \"fields\": [\n    {\n      \"column\": \"RegionID\",\n      \"properties\": {\n        \"dtype\": \"number\",\n        \"std\": 21,\n        \"min\": 92247,\n        \"max\": 92360,\n        \"num_unique_values\": 56,\n        \"samples\": [\n          92341,\n          92324,\n          92355\n        ],\n        \"semantic_type\": \"\",\n        \"description\": \"\"\n      }\n    },\n    {\n      \"column\": \"SizeRank\",\n      \"properties\": {\n        \"dtype\": \"number\",\n        \"std\": 4325,\n        \"min\": 42,\n        \"max\": 19540,\n        \"num_unique_values\": 55,\n        \"samples\": [\n          4434,\n          542,\n          5192\n        ],\n        \"semantic_type\": \"\",\n        \"description\": \"\"\n      }\n    },\n    {\n      \"column\": \"RegionName\",\n      \"properties\": {\n        \"dtype\": \"number\",\n        \"std\": 28,\n        \"min\": 78073,\n        \"max\": 78264,\n        \"num_unique_values\": 56,\n        \"samples\": [\n          78245,\n          78228,\n          78259\n        ],\n        \"semantic_type\": \"\",\n        \"description\": \"\"\n      }\n    },\n    {\n      \"column\": \"RegionType\",\n      \"properties\": {\n        \"dtype\": \"category\",\n        \"num_unique_values\": 1,\n        \"samples\": [\n          \"zip\"\n        ],\n        \"semantic_type\": \"\",\n        \"description\": \"\"\n      }\n    },\n    {\n      \"column\": \"StateName\",\n      \"properties\": {\n        \"dtype\": \"category\",\n        \"num_unique_values\": 1,\n        \"samples\": [\n          \"TX\"\n        ],\n        \"semantic_type\": \"\",\n        \"description\": \"\"\n      }\n    },\n    {\n      \"column\": \"State\",\n      \"properties\": {\n        \"dtype\": \"category\",\n        \"num_unique_values\": 1,\n        \"samples\": [\n          \"TX\"\n        ],\n        \"semantic_type\": \"\",\n        \"description\": \"\"\n      }\n    },\n    {\n      \"column\": \"City\",\n      \"properties\": {\n        \"dtype\": \"category\",\n        \"num_unique_values\": 1,\n        \"samples\": [\n          \"San Antonio\"\n        ],\n        \"semantic_type\": \"\",\n        \"description\": \"\"\n      }\n    },\n    {\n      \"column\": \"Metro\",\n      \"properties\": {\n        \"dtype\": \"category\",\n        \"num_unique_values\": 1,\n        \"samples\": [\n          \"San Antonio-New Braunfels, TX\"\n        ],\n        \"semantic_type\": \"\",\n        \"description\": \"\"\n      }\n    },\n    {\n      \"column\": \"CountyName\",\n      \"properties\": {\n        \"dtype\": \"category\",\n        \"num_unique_values\": 1,\n        \"samples\": [\n          \"Bexar County\"\n        ],\n        \"semantic_type\": \"\",\n        \"description\": \"\"\n      }\n    },\n    {\n      \"column\": \"Date\",\n      \"properties\": {\n        \"dtype\": \"date\",\n        \"min\": \"2000-01-31 00:00:00\",\n        \"max\": \"2024-09-30 00:00:00\",\n        \"num_unique_values\": 297,\n        \"samples\": [\n          \"2013-12-31 00:00:00\"\n        ],\n        \"semantic_type\": \"\",\n        \"description\": \"\"\n      }\n    },\n    {\n      \"column\": \"Price\",\n      \"properties\": {\n        \"dtype\": \"number\",\n        \"std\": 113179.07207845137,\n        \"min\": 38785.30697,\n        \"max\": 862739.8131,\n        \"num_unique_values\": 16476,\n        \"samples\": [\n          48723.74473\n        ],\n        \"semantic_type\": \"\",\n        \"description\": \"\"\n      }\n    }\n  ]\n}"
            }
          },
          "metadata": {},
          "execution_count": 53
        }
      ],
      "source": [
        "# Step 1: Set the identifier columns as the index\n",
        "san_antonio_data.set_index(['RegionID', 'SizeRank', 'RegionName', 'RegionType', 'StateName', 'State', 'City', 'Metro', 'CountyName'], inplace=True)\n",
        "\n",
        "# Step 2: Use `stack` to turn the date columns into rows\n",
        "san_antonio_prices = san_antonio_data.stack().reset_index()\n",
        "\n",
        "# Step 3: Rename the columns for clarity\n",
        "san_antonio_prices.columns = ['RegionID', 'SizeRank', 'RegionName', 'RegionType', 'StateName', 'State', 'City', 'Metro', 'CountyName', 'Date', 'Price']\n",
        "\n",
        "# Step 4: Convert the `Date` column to datetime format\n",
        "san_antonio_prices['Date'] = pd.to_datetime(san_antonio_prices['Date'], format='%m/%d/%y', errors='coerce')\n",
        "\n",
        "# Step 5: Display the reshaped data\n",
        "san_antonio_prices.head()\n"
      ]
    },
    {
      "cell_type": "code",
      "execution_count": 54,
      "metadata": {
        "id": "HYXNOaaGx6fd",
        "colab": {
          "base_uri": "https://localhost:8080/"
        },
        "outputId": "0c2d5729-3718-40da-9653-68db7952a4e4"
      },
      "outputs": [
        {
          "output_type": "stream",
          "name": "stdout",
          "text": [
            "Number of unique prices: 16476\n",
            "Unique Dates: 297\n",
            "Unique Regions: 56\n"
          ]
        }
      ],
      "source": [
        "# Count the unique price values\n",
        "unique_prices = san_antonio_prices['Price'].nunique()\n",
        "print(\"Number of unique prices:\", unique_prices)\n",
        "\n",
        "# Count the unique dates and regions\n",
        "unique_dates = san_antonio_prices['Date'].nunique()\n",
        "unique_regions = san_antonio_prices['RegionID'].nunique()\n",
        "\n",
        "print(\"Unique Dates:\", unique_dates)\n",
        "print(\"Unique Regions:\", unique_regions)\n",
        "\n"
      ]
    },
    {
      "cell_type": "markdown",
      "metadata": {
        "id": "-tr4N2qNEKnT"
      },
      "source": [
        "Beginning processing for dataset #2\n"
      ]
    },
    {
      "cell_type": "code",
      "execution_count": 55,
      "metadata": {
        "id": "rEjfCFBBEPV4",
        "colab": {
          "base_uri": "https://localhost:8080/"
        },
        "outputId": "e5e20481-3dd6-48d2-8608-edcc2b0b1345"
      },
      "outputs": [
        {
          "output_type": "stream",
          "name": "stdout",
          "text": [
            "Index(['brokered_by', 'status', 'price', 'bed', 'bath', 'acre_lot', 'street',\n",
            "       'city', 'state', 'zip_code', 'house_size', 'prev_sold_date'],\n",
            "      dtype='object')\n",
            "   brokered_by    status     price  bed  bath  acre_lot     street  \\\n",
            "0     103378.0  for_sale  105000.0  3.0   2.0      0.12  1962661.0   \n",
            "1      52707.0  for_sale   80000.0  4.0   2.0      0.08  1902874.0   \n",
            "2     103379.0  for_sale   67000.0  2.0   1.0      0.15  1404990.0   \n",
            "3      31239.0  for_sale  145000.0  4.0   2.0      0.10  1947675.0   \n",
            "4      34632.0  for_sale   65000.0  6.0   2.0      0.05   331151.0   \n",
            "\n",
            "         city        state  zip_code  house_size prev_sold_date  \n",
            "0    Adjuntas  Puerto Rico     601.0       920.0            NaN  \n",
            "1    Adjuntas  Puerto Rico     601.0      1527.0            NaN  \n",
            "2  Juana Diaz  Puerto Rico     795.0       748.0            NaN  \n",
            "3       Ponce  Puerto Rico     731.0      1800.0            NaN  \n",
            "4    Mayaguez  Puerto Rico     680.0         NaN            NaN  \n"
          ]
        }
      ],
      "source": [
        "# Display the column names\n",
        "print(data2.columns)\n",
        "\n",
        "# Show the first few rows to get an idea of the data\n",
        "print(data2.head())"
      ]
    },
    {
      "cell_type": "code",
      "source": [
        "data2_cleaned = data2.drop_duplicates()\n",
        "\n",
        "data2_cleaned['zip_code'] = pd.to_numeric(data2_cleaned['zip_code'], errors='coerce')\n",
        "data2_cleaned = data2_cleaned.dropna(subset=['zip_code'])\n"
      ],
      "metadata": {
        "id": "3kduA0gX72ey"
      },
      "execution_count": 56,
      "outputs": []
    },
    {
      "cell_type": "code",
      "source": [
        "data2_cleaned['zip_code'] = data2_cleaned['zip_code'].astype(int).astype(str)\n",
        "print(data2_cleaned['zip_code'].unique()[:10])  # View first 10 unique ZIP codes\n"
      ],
      "metadata": {
        "id": "dcuRVU-58alq",
        "colab": {
          "base_uri": "https://localhost:8080/"
        },
        "outputId": "f7cf672a-e26f-4b3f-f83f-43943b90f2d2"
      },
      "execution_count": 57,
      "outputs": [
        {
          "output_type": "stream",
          "name": "stdout",
          "text": [
            "['601' '795' '731' '680' '612' '639' '730' '670' '662' '669']\n"
          ]
        }
      ]
    },
    {
      "cell_type": "code",
      "source": [
        "# Check unique values in both columns\n",
        "print(\"Unique RegionName:\", san_antonio_prices['RegionName'].unique()[:5])\n",
        "print(\"Unique zip_code:\", data2_cleaned['zip_code'].unique()[:5])\n",
        "\n",
        "# Check for common values\n",
        "common_values = set(san_antonio_prices['RegionName']) & set(data2_cleaned['zip_code'])\n",
        "print(\"Common values between RegionName and zip_code:\", common_values)\n"
      ],
      "metadata": {
        "id": "Dwfp9pD17VkU",
        "colab": {
          "base_uri": "https://localhost:8080/"
        },
        "outputId": "bfe177a2-570f-420c-c4bd-e4e948e749a3"
      },
      "execution_count": 58,
      "outputs": [
        {
          "output_type": "stream",
          "name": "stdout",
          "text": [
            "Unique RegionName: [78245 78254 78249 78253 78251]\n",
            "Unique zip_code: ['601' '795' '731' '680' '612']\n",
            "Common values between RegionName and zip_code: set()\n"
          ]
        }
      ]
    },
    {
      "cell_type": "code",
      "source": [
        "data2_cleaned['zip_code'] = data2_cleaned['zip_code'].str.split('.').str[0]\n",
        "print(data2_cleaned['zip_code'].unique()[:10])\n",
        "\n"
      ],
      "metadata": {
        "id": "yGuDenOKVGNr",
        "colab": {
          "base_uri": "https://localhost:8080/"
        },
        "outputId": "1d981174-6751-400d-a39a-38a03a0dcb73"
      },
      "execution_count": 59,
      "outputs": [
        {
          "output_type": "stream",
          "name": "stdout",
          "text": [
            "['601' '795' '731' '680' '612' '639' '730' '670' '662' '669']\n"
          ]
        }
      ]
    },
    {
      "cell_type": "code",
      "source": [
        "san_antonio_prices['RegionName'] = san_antonio_prices['RegionName'].astype(str)\n",
        "data2_cleaned['zip_code'] = data2_cleaned['zip_code'].astype(str)\n"
      ],
      "metadata": {
        "id": "oWrmZUr8Z02J"
      },
      "execution_count": 60,
      "outputs": []
    },
    {
      "cell_type": "code",
      "execution_count": 61,
      "metadata": {
        "id": "5RLppC2kLhaL",
        "colab": {
          "base_uri": "https://localhost:8080/"
        },
        "outputId": "992b06a9-9b8a-4eb0-d7ed-0c0c9a26255f"
      },
      "outputs": [
        {
          "output_type": "stream",
          "name": "stdout",
          "text": [
            "Shape of merged_data: (2136423, 23)\n",
            "   RegionID  SizeRank RegionName RegionType StateName State         City  \\\n",
            "0     92341        42      78245        zip        TX    TX  San Antonio   \n",
            "1     92341        42      78245        zip        TX    TX  San Antonio   \n",
            "2     92341        42      78245        zip        TX    TX  San Antonio   \n",
            "3     92341        42      78245        zip        TX    TX  San Antonio   \n",
            "4     92341        42      78245        zip        TX    TX  San Antonio   \n",
            "\n",
            "                           Metro    CountyName       Date  ...     price  bed  \\\n",
            "0  San Antonio-New Braunfels, TX  Bexar County 2000-01-31  ...  478500.0  3.0   \n",
            "1  San Antonio-New Braunfels, TX  Bexar County 2000-01-31  ...  270000.0  4.0   \n",
            "2  San Antonio-New Braunfels, TX  Bexar County 2000-01-31  ...  275000.0  3.0   \n",
            "3  San Antonio-New Braunfels, TX  Bexar County 2000-01-31  ...  450000.0  4.0   \n",
            "4  San Antonio-New Braunfels, TX  Bexar County 2000-01-31  ...  389900.0  4.0   \n",
            "\n",
            "  bath  acre_lot     street         city  state  zip_code house_size  \\\n",
            "0  3.0      0.14   327636.0  San Antonio  Texas     78245     2898.0   \n",
            "1  3.0      0.14  1108000.0  San Antonio  Texas     78245     2530.0   \n",
            "2  2.0      0.11   617412.0  San Antonio  Texas     78245     1450.0   \n",
            "3  3.0      0.16   489871.0  San Antonio  Texas     78245     3276.0   \n",
            "4  3.0      0.19   364427.0  San Antonio  Texas     78245     2377.0   \n",
            "\n",
            "  prev_sold_date  \n",
            "0     2020-07-08  \n",
            "1     2017-09-21  \n",
            "2            NaN  \n",
            "3     2021-06-22  \n",
            "4     2019-08-12  \n",
            "\n",
            "[5 rows x 23 columns]\n",
            "object\n",
            "object\n",
            "First few RegionName values: ['78245' '78254' '78249' '78253' '78251' '78228' '78250' '78240' '78247'\n",
            " '78207']\n",
            "First few zip_code values: ['601' '795' '731' '680' '612' '639' '730' '670' '662' '669']\n"
          ]
        }
      ],
      "source": [
        "\n",
        "\n",
        "\n",
        "\n",
        "\n",
        "merged_data = pd.merge(\n",
        "    san_antonio_prices,\n",
        "    data2_cleaned,\n",
        "    how='inner',\n",
        "    left_on='RegionName',\n",
        "    right_on='zip_code'\n",
        ")\n",
        "\n",
        "print(\"Shape of merged_data:\", merged_data.shape)  # Check the size of the merged data\n",
        "print(merged_data.head())  # Preview the merged data\n",
        "\n",
        "print(san_antonio_prices['RegionName'].dtypes)  # Check RegionName type\n",
        "print(data2_cleaned['zip_code'].dtypes)        # Check zip_code type\n",
        "print(\"First few RegionName values:\", san_antonio_prices['RegionName'].unique()[:10])\n",
        "print(\"First few zip_code values:\", data2_cleaned['zip_code'].unique()[:10])\n"
      ]
    },
    {
      "cell_type": "code",
      "execution_count": 62,
      "metadata": {
        "id": "1ILseA3qpJYo",
        "colab": {
          "base_uri": "https://localhost:8080/"
        },
        "outputId": "7a37948a-3d66-441a-a27d-6de119b20d49"
      },
      "outputs": [
        {
          "output_type": "stream",
          "name": "stdout",
          "text": [
            "  zip_code     price  bed  bath  acre_lot  house_size       Date\n",
            "0    78245  478500.0  3.0   3.0      0.14      2898.0 2000-01-31\n",
            "1    78245  270000.0  4.0   3.0      0.14      2530.0 2000-01-31\n",
            "2    78245  275000.0  3.0   2.0      0.11      1450.0 2000-01-31\n",
            "3    78245  450000.0  4.0   3.0      0.16      3276.0 2000-01-31\n",
            "4    78245  389900.0  4.0   3.0      0.19      2377.0 2000-01-31\n"
          ]
        }
      ],
      "source": [
        "# Columns to keep\n",
        "columns_to_keep = ['zip_code', 'price', 'bed', 'bath', 'acre_lot', 'house_size', 'Date']\n",
        "\n",
        "# Filter to keep only relevant columns\n",
        "san_antonio_cleaned = merged_data[columns_to_keep]\n",
        "\n",
        "# Drop rows with missing values in relevant columns\n",
        "san_antonio_cleaned = san_antonio_cleaned.dropna(subset=['price', 'bed', 'bath', 'acre_lot', 'house_size'])\n",
        "\n",
        "print(san_antonio_cleaned.head())\n"
      ]
    },
    {
      "cell_type": "code",
      "execution_count": 63,
      "metadata": {
        "id": "tHgeiaxYwW5k"
      },
      "outputs": [],
      "source": [
        "# Define features and target\n",
        "features = ['bed', 'bath', 'acre_lot', 'house_size']\n",
        "target = 'price'\n",
        "X = san_antonio_cleaned[features]\n",
        "y = san_antonio_cleaned[target]\n"
      ]
    },
    {
      "cell_type": "code",
      "source": [
        "x = pd.get_dummies(san_antonio_cleaned[features+['zip_code']],drop_first=True)\n"
      ],
      "metadata": {
        "id": "aFtVAfB5jQWf"
      },
      "execution_count": 64,
      "outputs": []
    },
    {
      "cell_type": "code",
      "source": [
        "x = san_antonio_cleaned[features + ['zip_code']]  # Check if `x` has data\n",
        "print(x.shape)  # Displays the number of rows and columns in `x`\n"
      ],
      "metadata": {
        "id": "7bG2AmZ26wwV",
        "colab": {
          "base_uri": "https://localhost:8080/"
        },
        "outputId": "d6a4d8df-aced-4635-971a-603b66329d1d"
      },
      "execution_count": 65,
      "outputs": [
        {
          "output_type": "stream",
          "name": "stdout",
          "text": [
            "(1600533, 5)\n"
          ]
        }
      ]
    },
    {
      "cell_type": "code",
      "source": [
        "scaler = StandardScaler()\n",
        "scaled_x=scaler.fit_transform(x)"
      ],
      "metadata": {
        "id": "8zuu_i3urf9V"
      },
      "execution_count": 66,
      "outputs": []
    },
    {
      "cell_type": "code",
      "source": [
        "X_train, X_test, y_train, y_test = train_test_split(scaled_x, y, test_size=0.2, random_state=42)\n"
      ],
      "metadata": {
        "id": "MK8KXGMcWTMW"
      },
      "execution_count": 67,
      "outputs": []
    },
    {
      "cell_type": "code",
      "source": [
        " #linear regression model starts here\n",
        "model_lr = LinearRegression()\n",
        "model_lr.fit(X_train, y_train)\n",
        "y_pred_lr = model_lr.predict(X_test)\n",
        "mae = mean_absolute_error(y_test, y_pred_lr)\n",
        "\n",
        "\n"
      ],
      "metadata": {
        "id": "ivjd6rZ-Xua5"
      },
      "execution_count": 68,
      "outputs": []
    },
    {
      "cell_type": "code",
      "source": [
        "\n",
        "print(\"Linear Regression Results:\")\n",
        "print(\"Mean Squared Error:\", mean_squared_error(y_test, y_pred_lr))\n",
        "print(\"R-squared:\", r2_score(y_test, y_pred_lr))\n",
        "print(\"Mean Absolute Error:\", mae)\n",
        "\n",
        "\n",
        "#why is our MSE so high?\n",
        "\n",
        "#Could be because our model is too simple to catch all the complexities in the relationship\n",
        "#(too few features? LR cant fit non linear relationship?)\n",
        "\n",
        "# Could be beacause of outliers: disproportionately priced house (luxury homes can be very expensive for example)\n",
        "\n",
        "# Is also because house prices are very high numbers, and MSE squares errors,\n",
        "# so even small deviations between predicted and actual values can become very large\n",
        "\n",
        "\n",
        "# why is R Squared 64%?\n",
        "\n",
        "#this means that our model took into account 64% of variation in house prices.\n",
        "# The remaining 36% cannot be explained by features in our model (for eg, crime rates, school districts, etc.)\n",
        "\n",
        "\n",
        "#why is MAE 99040? This means that our house prices are off by about 99 thousand dollars.\n",
        "# Model is likely not complex enough, or nuances of housing market are not captured fully in the model\n",
        "\n",
        "\n",
        "#The metrics will now be compared between our different models and best metrics means best performing model\n"
      ],
      "metadata": {
        "colab": {
          "base_uri": "https://localhost:8080/"
        },
        "id": "mkWD8oD5aVmY",
        "outputId": "17a64f55-5061-4745-ba57-9ad762355fb5"
      },
      "execution_count": 69,
      "outputs": [
        {
          "output_type": "stream",
          "name": "stdout",
          "text": [
            "Linear Regression Results:\n",
            "Mean Squared Error: 28172604961.3672\n",
            "R-squared: 0.6435188689578817\n",
            "Mean Absolute Error: 99040.40460419575\n"
          ]
        }
      ]
    },
    {
      "cell_type": "code",
      "source": [
        " #decision tree model starts here\n",
        "model_dt = DecisionTreeRegressor(max_depth=10, random_state=42) #max depth of 10 to try and prevent overfitting\n",
        "model_dt.fit(X_train, y_train)\n",
        "y_pred_dt = model_dt.predict(X_test)\n",
        "mae = mean_absolute_error(y_test, y_pred_dt)\n",
        "\n"
      ],
      "metadata": {
        "id": "BIiJLXW3cMeI"
      },
      "execution_count": 70,
      "outputs": []
    },
    {
      "cell_type": "code",
      "source": [
        "print(\"Decision Tree Results:\")\n",
        "print(\"Mean Squared Error:\", mean_squared_error(y_test, y_pred_dt))\n",
        "print(\"R-squared:\", r2_score(y_test, y_pred_dt))\n",
        "print(\"Mean Absolute Error:\", mae)\n",
        "\n",
        "\n",
        "#MSE is a lot lower than Linear Regression. This is because DT can handle more complex relationships.\n",
        "# However it is still relatively high, this is likely becaue of the scale of house prices or outliers\n",
        "\n",
        "#R^2 is higher than LR as well. This shows that this model is a better fit for the data,\n",
        "# and better explains the proportion of variance in house prices\n",
        "\n",
        "#why is MAE 47891? This means that our house prices are off by about 48 thousand dollars.\n",
        "# Model is likely not complex enough, or nuances of housing market are not captured fully in the model\n"
      ],
      "metadata": {
        "colab": {
          "base_uri": "https://localhost:8080/"
        },
        "id": "zDxpVOKJgrI2",
        "outputId": "e83438b4-6f7a-4df1-e5cb-e7a7f78688e0"
      },
      "execution_count": 71,
      "outputs": [
        {
          "output_type": "stream",
          "name": "stdout",
          "text": [
            "Decision Tree Results:\n",
            "Mean Squared Error: 4947009380.9260025\n",
            "R-squared: 0.9374031793720615\n",
            "Mean Absolute Error: 47891.750646170585\n"
          ]
        }
      ]
    },
    {
      "cell_type": "code",
      "source": [
        "# random forest model begins here\n",
        "model_rf = RandomForestRegressor(n_estimators=100, random_state=42) #using 100 trees, will take significant computing time\n",
        "model_rf.fit(X_train,y_train)\n",
        "y_pred_rf = model_rf.predict(X_test)\n",
        "mae = mean_absolute_error(y_test, y_pred_rf)\n"
      ],
      "metadata": {
        "id": "LpFKcSaZfpzg"
      },
      "execution_count": 72,
      "outputs": []
    },
    {
      "cell_type": "code",
      "source": [
        "print(\"Random Forest Results:\")\n",
        "print(\"Mean Squared Error:\", mean_squared_error(y_test, y_pred_rf))\n",
        "print(\"R-squared:\", r2_score(y_test, y_pred_rf))\n",
        "print(\"Mean Absolute Error:\", mae)\n",
        "\n",
        "# very low MSE, this shows a much better result than decision trees or Linear Regression.\n",
        "# very high r^2, this means the model explains 99.5% of variance in the house prices.\n",
        "# low MAE, house prices are off by about only $1600.\n",
        "\n",
        "# Why are the results so much better? because using multiple decision trees reduces proness to overfitting and smoothes out errors.\n",
        "# However, the results could also be because of overfitting, the model should be tested on unseen data to confirm"
      ],
      "metadata": {
        "colab": {
          "base_uri": "https://localhost:8080/"
        },
        "id": "TrJV67bzfqHD",
        "outputId": "e597df2c-aa9b-4a46-dd72-4f0f6e544efa"
      },
      "execution_count": 73,
      "outputs": [
        {
          "output_type": "stream",
          "name": "stdout",
          "text": [
            "Random Forest Results:\n",
            "Mean Squared Error: 38105149.57001163\n",
            "R-squared: 0.9995178377421657\n",
            "Mean Absolute Error: 1654.3431910954437\n"
          ]
        }
      ]
    },
    {
      "cell_type": "markdown",
      "source": [],
      "metadata": {
        "id": "Riz3ECxcr8FO"
      }
    },
    {
      "cell_type": "markdown",
      "source": [
        "How can we minimize overfitting (when the model memorizes the training data)? We can control hyperparameters. This will make the model more accurate. Some key hyperparameters include:     \n",
        "\n",
        "min_samples_split,\n",
        "\n",
        "max_depth,\n",
        "\n",
        "max_features\n",
        "\n",
        "We can use Grid or Randomized Search, these test combinations of parameters to see which provide the most optimal configuration.  "
      ],
      "metadata": {
        "id": "x6fLuITOfqnn"
      }
    },
    {
      "cell_type": "code",
      "source": [
        "#some experimentation regarding hyperparameters, firstly the number of trees within RF (50 instead of 100).\n",
        "\n",
        "model_rf = RandomForestRegressor(n_estimators=50, random_state=42)\n",
        "model_rf.fit(X_train,y_train)\n",
        "y_pred_rf = model_rf.predict(X_test)\n",
        "mae = mean_absolute_error(y_test, y_pred_rf)\n",
        "\n",
        "\n",
        "print(\"Experiment Random Forest Results:\")\n",
        "print(\"Mean Squared Error:\", mean_squared_error(y_test, y_pred_rf))\n",
        "print(\"R-squared:\", r2_score(y_test, y_pred_rf))\n",
        "print(\"Mean Absolute Error:\", mae)"
      ],
      "metadata": {
        "colab": {
          "base_uri": "https://localhost:8080/"
        },
        "id": "o9xaq1Migfth",
        "outputId": "6f63a2bb-f623-4c02-fbc6-e60fcec3cdf4"
      },
      "execution_count": 74,
      "outputs": [
        {
          "output_type": "stream",
          "name": "stdout",
          "text": [
            "Experiment Random Forest Results:\n",
            "Mean Squared Error: 38108687.19637394\n",
            "R-squared: 0.9995177929789267\n",
            "Mean Absolute Error: 1654.4999022321313\n"
          ]
        }
      ]
    },
    {
      "cell_type": "markdown",
      "source": [
        "The results from lowering the trees to 50 rather than 100. Around half the compute time (2 min 40 secs). Very similar results, the MAE and MSE were better in (n=100) by an insignificant amount. This is one example of tuning the model."
      ],
      "metadata": {
        "id": "vWWUY0ozsOpv"
      }
    },
    {
      "cell_type": "code",
      "source": [
        "# Some experimentation with Decision Trees\n",
        "\n",
        " #decision tree model starts here\n",
        "model_dt = DecisionTreeRegressor(max_depth=15, random_state=42) #max depth of 15 to see the difference that increasing max depth makes\n",
        "model_dt.fit(X_train, y_train)\n",
        "y_pred_dt = model_dt.predict(X_test)\n",
        "mae = mean_absolute_error(y_test, y_pred_dt)\n",
        "\n",
        "print(\"Experiment Decision Tree Results:\")\n",
        "print(\"Mean Squared Error:\", mean_squared_error(y_test, y_pred_dt))\n",
        "print(\"R-squared:\", r2_score(y_test, y_pred_dt))\n",
        "print(\"Mean Absolute Error:\", mae)\n",
        "\n",
        "\n"
      ],
      "metadata": {
        "colab": {
          "base_uri": "https://localhost:8080/"
        },
        "id": "ATGhqvhbtEpI",
        "outputId": "a045eff0-53e6-451e-bdb9-930586b06101"
      },
      "execution_count": 75,
      "outputs": [
        {
          "output_type": "stream",
          "name": "stdout",
          "text": [
            "Experiment Decision Tree Results:\n",
            "Mean Squared Error: 1412441764.6512063\n",
            "R-squared: 0.9821277145480709\n",
            "Mean Absolute Error: 22311.417627848867\n"
          ]
        }
      ]
    },
    {
      "cell_type": "markdown",
      "source": [
        "It seems that increasing the max depth (from 10 - 15) has increased the models performance."
      ],
      "metadata": {
        "id": "VDVEGO3iyaR_"
      }
    },
    {
      "cell_type": "markdown",
      "source": [
        "After the above tests with DT and RF, we will check below to see if overfitting is occurring.\n"
      ],
      "metadata": {
        "id": "NmPMHDx0wnT1"
      }
    },
    {
      "cell_type": "code",
      "source": [
        "# Train DT with max depth of 10\n",
        "model_dt = DecisionTreeRegressor(max_depth=10, random_state=42)\n",
        "model_dt.fit(X_train, y_train)\n",
        "\n",
        "# Evaluate on training set\n",
        "y_train_pred = model_dt.predict(X_train)\n",
        "train_mse = mean_squared_error(y_train, y_train_pred)\n",
        "train_r2 = r2_score(y_train, y_train_pred)\n",
        "\n",
        "# Evaluate on test set\n",
        "y_test_pred = model_dt.predict(X_test)\n",
        "test_mse = mean_squared_error(y_test, y_test_pred)\n",
        "test_r2 = r2_score(y_test, y_test_pred)\n",
        "\n",
        "print(\"Training MSE:\", train_mse)\n",
        "print(\"Training R²:\", train_r2)\n",
        "print(\"Test MSE:\", test_mse)\n",
        "print(\"Test R²:\", test_r2)\n"
      ],
      "metadata": {
        "colab": {
          "base_uri": "https://localhost:8080/"
        },
        "id": "WH3ZoPHJxJ-1",
        "outputId": "6219e0e8-af26-45b1-ae03-da72c6e2339e"
      },
      "execution_count": 76,
      "outputs": [
        {
          "output_type": "stream",
          "name": "stdout",
          "text": [
            "Training MSE: 4942343033.184442\n",
            "Training R²: 0.9373033876534966\n",
            "Test MSE: 4947009380.9260025\n",
            "Test R²: 0.9374031793720615\n"
          ]
        }
      ]
    },
    {
      "cell_type": "markdown",
      "source": [
        "The above results show us that overfitting is not occuring in the DT model, because the scores for training and test are very similar."
      ],
      "metadata": {
        "id": "jWZKrDiMxqYE"
      }
    },
    {
      "cell_type": "markdown",
      "source": [
        "The results are as follows (best performing model from top to bottom):\n",
        "\n",
        "1) Random Forest\n",
        "\n",
        "2) Decision Tree\n",
        "\n",
        "3) Linear Regression\n",
        "\n",
        "\n",
        "This does not come as a surpise as the housing market is complex and has many features etc, and simpler models cannot handle such relationships. The most complex model (in this case) is the best. However it does seem that with enough tuning, the DT could come relatively close to RF in terms of accuracy. Linear Regression lags behind both other models.\n",
        "\n"
      ],
      "metadata": {
        "id": "i4a41IHYvCgu"
      }
    },
    {
      "cell_type": "markdown",
      "source": [],
      "metadata": {
        "id": "Z7oyvrIaxpe_"
      }
    },
    {
      "cell_type": "code",
      "source": [],
      "metadata": {
        "id": "Se7AxHk1vI1_"
      },
      "execution_count": 76,
      "outputs": []
    }
  ],
  "metadata": {
    "colab": {
      "provenance": [],
      "include_colab_link": true
    },
    "kernelspec": {
      "display_name": "Python 3",
      "name": "python3"
    },
    "language_info": {
      "name": "python"
    }
  },
  "nbformat": 4,
  "nbformat_minor": 0
}